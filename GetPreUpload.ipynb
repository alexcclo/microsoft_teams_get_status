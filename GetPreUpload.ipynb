{
 "cells": [
  {
   "cell_type": "code",
   "execution_count": 2,
   "metadata": {},
   "outputs": [],
   "source": [
    "# coding: utf-8\n",
    "import requests\n",
    "import json\n",
    "import time\n",
    "from time import strftime,gmtime,mktime,strptime\n",
    "import config"
   ]
  },
  {
   "cell_type": "code",
   "execution_count": 3,
   "metadata": {},
   "outputs": [],
   "source": [
    "def allID():\n",
    "    return config.getIDs()\n",
    "def allName():\n",
    "    #print(config.getNames())\n",
    "    return config.getNames()\n",
    "def setting():\n",
    "    return config.getSet()"
   ]
  },
  {
   "cell_type": "code",
   "execution_count": 6,
   "metadata": {},
   "outputs": [],
   "source": [
    "def getToken():\n",
    "    token_url = \"https://login.microsoftonline.com/10f0f3b2-c2b5-445f-84f7-584515916a82/oauth2/token\"\n",
    "    token_data = setting()\n",
    "    token_r = requests.post(token_url, data=token_data)\n",
    "    token = token_r.json().get(\"access_token\")\n",
    "    return(token)"
   ]
  },
  {
   "cell_type": "code",
   "execution_count": 7,
   "metadata": {},
   "outputs": [],
   "source": [
    "def getList(dict): \n",
    "    newdict = []\n",
    "    for i in dict.keys():\n",
    "        newdict.append(i)\n",
    "    return newdict\n",
    "def getTime(Timestr):\n",
    "    newTime = strftime(\"%H:%M\", gmtime(mktime(strptime(Timestr, \"%a %b  %d %H:%M:%S %Y\"))))\n",
    "    return newTime\n",
    "def getDate(Datestr):\n",
    "    newDate = strftime(\"%Y-%m-%d\", gmtime(mktime(strptime(Datestr, \"%a %b  %d %H:%M:%S %Y\"))))\n",
    "    return newDate\n",
    "def getDay(Datestr):\n",
    "    newDate = strftime(\"%a\", gmtime(mktime(strptime(Datestr, \"%a %b  %d %H:%M:%S %Y\"))))\n",
    "    return newDate"
   ]
  },
  {
   "cell_type": "code",
   "execution_count": 12,
   "metadata": {},
   "outputs": [],
   "source": [
    "def getpostform(groupName):\n",
    "    ID = allID()\n",
    "    Post_json = {}\n",
    "    Post_json['ids'] = ID[groupName]\n",
    "    Post_json = json.dumps(Post_json)\n",
    "    return(Post_json)\n",
    "def getGroupName():\n",
    "    group = allID()\n",
    "    name = getList(group)\n",
    "    return(name)\n",
    "def getDisplayname(userID):\n",
    "    name = allName()\n",
    "    return name[userID]\n",
    "def getResponseData(groupName):\n",
    "    post_url = 'https://graph.microsoft.com/beta/communications/getPresencesByUserId'\n",
    "    token = getToken()\n",
    "    headers = { 'Authorization': 'Bearer {}'.format(token)}\n",
    "    postJson = getpostform(groupName)\n",
    "    postJson = json.loads(postJson)\n",
    "    user_response_data = json.loads(requests.post(post_url, headers=headers,json = postJson).text)\n",
    "    return(user_response_data['value'])"
   ]
  },
  {
   "cell_type": "code",
   "execution_count": 8,
   "metadata": {},
   "outputs": [],
   "source": [
    "def getPostform(num):\n",
    "    seconds = time.time()\n",
    "    local_time = time.ctime(seconds)\n",
    "    days = getDay(local_time)\n",
    "    timere = getTime(local_time)\n",
    "    if(days != \"Sun\" and days != \"Sat\" and timere > '10:00'):\n",
    "        seconds = seconds + 28800\n",
    "        local_time = time.ctime(seconds)\n",
    "        groupName = getGroupName()\n",
    "        postform = {}\n",
    "        postform[\"timestamp\"] = local_time\n",
    "        postform[\"groupName\"] = groupName[num]\n",
    "        #pprint.pprint(postform)\n",
    "        detail = []\n",
    "        Data = getResponseData(groupName[num])\n",
    "        for i in Data:\n",
    "            index = {}\n",
    "            index[\"displayname\"]=getDisplayname(i[\"id\"])\n",
    "            index[\"activity\"] = i[\"activity\"]\n",
    "            detail.append(index)\n",
    "        postform[\"records\"] = detail\n",
    "        return(postform)"
   ]
  },
  {
   "cell_type": "code",
   "execution_count": 20,
   "metadata": {},
   "outputs": [],
   "source": [
    "def postDB():\n",
    "    db_url = \"https://graphapialex.azurewebsites.net/api/HttpTriggerApi?code=5aQUp8YwEb2AZJnUNQbrqQyzHNaG0ffzpgrdEMQaY7MKF2RnhOKhKQ==\"\n",
    "    for i in range(len(getGroupName())):\n",
    "        post_form = getPostform(i)\n",
    "        Result_upload = requests.post(db_url,json = post_form).text"
   ]
  },
  {
   "cell_type": "code",
   "execution_count": null,
   "metadata": {},
   "outputs": [],
   "source": []
  }
 ],
 "metadata": {
  "kernelspec": {
   "display_name": "Python 3",
   "language": "python",
   "name": "python3"
  },
  "language_info": {
   "codemirror_mode": {
    "name": "ipython",
    "version": 3
   },
   "file_extension": ".py",
   "mimetype": "text/x-python",
   "name": "python",
   "nbconvert_exporter": "python",
   "pygments_lexer": "ipython3",
   "version": "3.7.2"
  }
 },
 "nbformat": 4,
 "nbformat_minor": 4
}
